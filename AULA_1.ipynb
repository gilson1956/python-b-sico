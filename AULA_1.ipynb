{
  "nbformat": 4,
  "nbformat_minor": 0,
  "metadata": {
    "colab": {
      "provenance": [],
      "authorship_tag": "ABX9TyNpLzahormZt8OSM1/uPWSV",
      "include_colab_link": true
    },
    "kernelspec": {
      "name": "python3",
      "display_name": "Python 3"
    },
    "language_info": {
      "name": "python"
    }
  },
  "cells": [
    {
      "cell_type": "markdown",
      "metadata": {
        "id": "view-in-github",
        "colab_type": "text"
      },
      "source": [
        "<a href=\"https://colab.research.google.com/github/gilson1956/python-b-sico/blob/main/AULA_1.ipynb\" target=\"_parent\"><img src=\"https://colab.research.google.com/assets/colab-badge.svg\" alt=\"Open In Colab\"/></a>"
      ]
    },
    {
      "cell_type": "code",
      "execution_count": null,
      "metadata": {
        "colab": {
          "base_uri": "https://localhost:8080/",
          "height": 35
        },
        "id": "R3-ew8GLb1gl",
        "outputId": "6d8471b8-a6ef-4ae5-d612-6cde43446efc"
      },
      "outputs": [
        {
          "output_type": "execute_result",
          "data": {
            "text/plain": [
              "'\\nTudo que for escrito \\ndentro desse intervalo \\né considerado comentário.\\n'"
            ],
            "application/vnd.google.colaboratory.intrinsic+json": {
              "type": "string"
            }
          },
          "metadata": {},
          "execution_count": 3
        }
      ],
      "source": [
        "# Comentário em python\n",
        "\n",
        "\"\"\"\n",
        "Tudo que for escrito \n",
        "dentro desse intervalo \n",
        "é considerado comentário.\n",
        "\"\"\""
      ]
    },
    {
      "cell_type": "code",
      "source": [
        "#usando o comando input\n",
        "altura=input(\"digite a altura da pessoa\")\n",
        "\n"
      ],
      "metadata": {
        "colab": {
          "base_uri": "https://localhost:8080/"
        },
        "id": "i_fMLrzod-Qc",
        "outputId": "50d8a090-d9d0-4846-ce75-65a65a799b37"
      },
      "execution_count": null,
      "outputs": [
        {
          "name": "stdout",
          "output_type": "stream",
          "text": [
            "digite a altura da pessoa2,00m\n"
          ]
        }
      ]
    },
    {
      "cell_type": "code",
      "source": [
        "\n",
        "#comentário sobreo input, o   input irá retornar por padrão um valor tipo string\n",
        "número1=input(\"Digite um numero inteiro\")\n",
        "número2=input(\"Digite um numero inteiro\")\n",
        "número1+número2\n"
      ],
      "metadata": {
        "colab": {
          "base_uri": "https://localhost:8080/",
          "height": 70
        },
        "id": "o1KAEhd4hTJi",
        "outputId": "54982726-866f-44b7-e3bf-f31aae8446c9"
      },
      "execution_count": null,
      "outputs": [
        {
          "name": "stdout",
          "output_type": "stream",
          "text": [
            "Digite um numero inteiro12\n",
            "Digite um numero inteiro51\n"
          ]
        },
        {
          "output_type": "execute_result",
          "data": {
            "text/plain": [
              "'1251'"
            ],
            "application/vnd.google.colaboratory.intrinsic+json": {
              "type": "string"
            }
          },
          "metadata": {},
          "execution_count": 7
        }
      ]
    },
    {
      "cell_type": "code",
      "source": [
        "#se quisermos colocar outro tipo primitivo utilizaremos os modificadores int(), float(), bool() e str()\n",
        "número1=int( input(\"Digite um numero inteiro\") )\n",
        "número2=int( input(\"Digite um numero inteiro\") )\n",
        "número1+número"
      ],
      "metadata": {
        "colab": {
          "base_uri": "https://localhost:8080/"
        },
        "id": "VrKpJzlaii4T",
        "outputId": "0a78ca00-2f99-45d8-a44c-c59d13e4b31d"
      },
      "execution_count": null,
      "outputs": [
        {
          "name": "stdout",
          "output_type": "stream",
          "text": [
            "Digite um numero inteiro12\n",
            "Digite um numero inteiro51\n"
          ]
        },
        {
          "output_type": "execute_result",
          "data": {
            "text/plain": [
              "63"
            ]
          },
          "metadata": {},
          "execution_count": 8
        }
      ]
    },
    {
      "cell_type": "code",
      "source": [
        "#testando o modificador bool()\n",
        "\n",
        "var1=bool(input(\"Digite um número.\"))\n",
        "print(var1)\n",
        "\n",
        "# se não colocar nenhum valor no input ao converter para boleano será falso. \n",
        "# se colocarmos qualquer valor no input ao converter para boleano seá true"
      ],
      "metadata": {
        "colab": {
          "base_uri": "https://localhost:8080/"
        },
        "id": "zKZt0ANdjVku",
        "outputId": "4bd578ab-8bf2-4483-ef34-aaa99af6f00c"
      },
      "execution_count": null,
      "outputs": [
        {
          "output_type": "stream",
          "name": "stdout",
          "text": [
            "Digite um número.asdasad\n",
            "True\n"
          ]
        }
      ]
    },
    {
      "cell_type": "code",
      "source": [
        "#0peradores relacionais\n",
        "\"\"\"\n",
        "tema da aula de hoje :desvio condicional\n",
        "operadores relacionais:\n",
        "(X==Y) X é igual a Y\n",
        "(X!=Y)X é diferente de Y\n",
        "(X<Y)X é menor que Y\n",
        "(X<=Y)x é menor ou igual a Y\n",
        "(X>Y)X é maior que Y\n",
        "(X>=Y)X é maior ou igual a Y\n",
        "\"\"\""
      ],
      "metadata": {
        "id": "3Xidkr2klYLq"
      },
      "execution_count": 1,
      "outputs": []
    },
    {
      "cell_type": "code",
      "source": [
        "x=10\n",
        "y=50\n",
        "#comentando :testando igualdade\n",
        "x==y"
      ],
      "metadata": {
        "colab": {
          "base_uri": "https://localhost:8080/"
        },
        "id": "bL2QchmiwOBC",
        "outputId": "3f653a2f-b8e2-4e36-ee96-5e1676900f10"
      },
      "execution_count": 4,
      "outputs": [
        {
          "output_type": "execute_result",
          "data": {
            "text/plain": [
              "False"
            ]
          },
          "metadata": {},
          "execution_count": 4
        }
      ]
    },
    {
      "cell_type": "code",
      "source": [
        "#comentário:testando inigualdade\n",
        "x!=y\n"
      ],
      "metadata": {
        "colab": {
          "base_uri": "https://localhost:8080/"
        },
        "id": "qsXib6m1xOOW",
        "outputId": "a76d8861-f21c-4139-9cc6-346b0b14b2d7"
      },
      "execution_count": 5,
      "outputs": [
        {
          "output_type": "execute_result",
          "data": {
            "text/plain": [
              "True"
            ]
          },
          "metadata": {},
          "execution_count": 5
        }
      ]
    },
    {
      "cell_type": "code",
      "source": [
        "#testando Menor que\n",
        "x<y"
      ],
      "metadata": {
        "colab": {
          "base_uri": "https://localhost:8080/"
        },
        "id": "53xFpt_BzApd",
        "outputId": "779ee0cb-e5f6-4db1-a93f-2fe46b23d1c3"
      },
      "execution_count": 6,
      "outputs": [
        {
          "output_type": "execute_result",
          "data": {
            "text/plain": [
              "True"
            ]
          },
          "metadata": {},
          "execution_count": 6
        }
      ]
    },
    {
      "cell_type": "code",
      "source": [
        "#testando Menor que\n",
        "x>y"
      ],
      "metadata": {
        "colab": {
          "base_uri": "https://localhost:8080/"
        },
        "id": "dYSKjMYizXyG",
        "outputId": "15141bf8-cc92-403a-a5bb-2828869f0ec3"
      },
      "execution_count": 7,
      "outputs": [
        {
          "output_type": "execute_result",
          "data": {
            "text/plain": [
              "False"
            ]
          },
          "metadata": {},
          "execution_count": 7
        }
      ]
    },
    {
      "cell_type": "code",
      "source": [
        "#comentário:menor ou igual\n",
        "x<=y"
      ],
      "metadata": {
        "colab": {
          "base_uri": "https://localhost:8080/"
        },
        "id": "x8re9Ezyz6J3",
        "outputId": "082ca64a-edbf-4cb4-ed51-edc0d356e931"
      },
      "execution_count": 10,
      "outputs": [
        {
          "output_type": "execute_result",
          "data": {
            "text/plain": [
              "True"
            ]
          },
          "metadata": {},
          "execution_count": 10
        }
      ]
    },
    {
      "cell_type": "code",
      "source": [
        "#comentário:maior ou igual\n",
        "x>=y"
      ],
      "metadata": {
        "colab": {
          "base_uri": "https://localhost:8080/"
        },
        "id": "66mSXz_81DoJ",
        "outputId": "3cecedc8-4008-4a33-a2a2-d3f2a82dbf0b"
      },
      "execution_count": 13,
      "outputs": [
        {
          "output_type": "execute_result",
          "data": {
            "text/plain": [
              "False"
            ]
          },
          "metadata": {},
          "execution_count": 13
        }
      ]
    },
    {
      "cell_type": "code",
      "source": [
        "\"\"\"\n",
        "Operadores lógicos:\n",
        "São operadpres que unem duas expresso~es lógicas e retornam um valor boleano(true ou false)\n",
        "eles são:\n",
        "and(significa e)\n",
        "or(significa  ou em português\n",
        "not(significa não).\n",
        "Existe uma regra de prioridade dos operadores\n",
        "\"\"\"\n",
        "(10>18)and(3>2)\n",
        "(10>18)or(3>2)\n",
        "\n"
      ],
      "metadata": {
        "colab": {
          "base_uri": "https://localhost:8080/"
        },
        "id": "HXOzBCBZ1i97",
        "outputId": "a1694de1-beca-429f-a044-66d346505bfb"
      },
      "execution_count": 15,
      "outputs": [
        {
          "output_type": "execute_result",
          "data": {
            "text/plain": [
              "True"
            ]
          },
          "metadata": {},
          "execution_count": 15
        }
      ]
    },
    {
      "cell_type": "code",
      "source": [
        "not(3>2)"
      ],
      "metadata": {
        "colab": {
          "base_uri": "https://localhost:8080/"
        },
        "id": "PHvSazF642vz",
        "outputId": "2bc62285-3a52-4aab-e190-9f23cfd16ab9"
      },
      "execution_count": 16,
      "outputs": [
        {
          "output_type": "execute_result",
          "data": {
            "text/plain": [
              "False"
            ]
          },
          "metadata": {},
          "execution_count": 16
        }
      ]
    },
    {
      "cell_type": "code",
      "source": [
        "#comentário;continuação do exercício:\n",
        "(10>18)and(3>2)or(1<2)"
      ],
      "metadata": {
        "colab": {
          "base_uri": "https://localhost:8080/"
        },
        "id": "OG6qiUft4pLM",
        "outputId": "b2d5ce64-adbe-4aee-be4f-c344a2b5ce8f"
      },
      "execution_count": 17,
      "outputs": [
        {
          "output_type": "execute_result",
          "data": {
            "text/plain": [
              "True"
            ]
          },
          "metadata": {},
          "execution_count": 17
        }
      ]
    },
    {
      "cell_type": "code",
      "source": [
        "(10>18)and((3>2)or(1<2))"
      ],
      "metadata": {
        "colab": {
          "base_uri": "https://localhost:8080/"
        },
        "id": "EHPYI1RO8efE",
        "outputId": "e68f2af7-12f2-407f-82b0-2b491829b933"
      },
      "execution_count": 18,
      "outputs": [
        {
          "output_type": "execute_result",
          "data": {
            "text/plain": [
              "False"
            ]
          },
          "metadata": {},
          "execution_count": 18
        }
      ]
    },
    {
      "cell_type": "code",
      "source": [
        "(1<2)or(1>2)and(1<2)"
      ],
      "metadata": {
        "colab": {
          "base_uri": "https://localhost:8080/"
        },
        "id": "GRhAOuMB9OBo",
        "outputId": "59f9f720-6ad0-4820-b10e-ee97d03fd35c"
      },
      "execution_count": 20,
      "outputs": [
        {
          "output_type": "execute_result",
          "data": {
            "text/plain": [
              "False"
            ]
          },
          "metadata": {},
          "execution_count": 20
        }
      ]
    }
  ]
}